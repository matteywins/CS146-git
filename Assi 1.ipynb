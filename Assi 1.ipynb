{
 "cells": [
  {
   "cell_type": "code",
   "execution_count": 2,
   "metadata": {
    "collapsed": true
   },
   "outputs": [],
   "source": [
    "import numpy as np"
   ]
  },
  {
   "cell_type": "code",
   "execution_count": 33,
   "metadata": {},
   "outputs": [],
   "source": [
    "before = 0 \n",
    "after = 0 \n",
    "half = 0\n",
    "\n",
    "\n",
    "for i in range(10000): \n",
    "    cs146 = np.random.uniform(low = 15, high = 30, size = 15)\n",
    "    bigger = 0\n",
    "    smaller = 0 \n",
    "    \n",
    "    for j in cs146: \n",
    "        if  23.463 > j:\n",
    "            bigger += 1 \n",
    "        elif 23.463 < j: \n",
    "            smaller += 1 \n",
    "            \n",
    "    if bigger == 15:\n",
    "        before += 1\n",
    "    elif smaller == 15: \n",
    "        after += 1 \n",
    "    elif bigger >= 8: \n",
    "        half += 1 "
   ]
  },
  {
   "cell_type": "code",
   "execution_count": 41,
   "metadata": {},
   "outputs": [],
   "source": [
    "import numpy as np\n",
    "\n",
    "before = 0 \n",
    "after = 0 \n",
    "half = 0\n",
    "\n",
    "\n",
    "for i in range(10000): \n",
    "    cs146 = np.random.uniform(low = 1, high = 365, size = 15)\n",
    "    bigger = 0\n",
    "    smaller = 0 \n",
    "    \n",
    "    for j in cs146: \n",
    "        if  89 > j:\n",
    "            bigger += 1 \n",
    "        elif 89 < j: \n",
    "            smaller += 1 \n",
    "            \n",
    "    if bigger == 15:\n",
    "        before += 1\n",
    "    elif smaller == 15: \n",
    "        after += 1 \n",
    "    elif bigger >= 8: \n",
    "        half += 1 "
   ]
  },
  {
   "cell_type": "code",
   "execution_count": 46,
   "metadata": {},
   "outputs": [
    {
     "data": {
      "text/plain": [
       "0.0132"
      ]
     },
     "execution_count": 46,
     "metadata": {},
     "output_type": "execute_result"
    }
   ],
   "source": [
    "half/10000.00"
   ]
  }
 ],
 "metadata": {
  "kernelspec": {
   "display_name": "Python 2",
   "language": "python",
   "name": "python2"
  },
  "language_info": {
   "codemirror_mode": {
    "name": "ipython",
    "version": 2
   },
   "file_extension": ".py",
   "mimetype": "text/x-python",
   "name": "python",
   "nbconvert_exporter": "python",
   "pygments_lexer": "ipython2",
   "version": "2.7.14"
  }
 },
 "nbformat": 4,
 "nbformat_minor": 2
}
