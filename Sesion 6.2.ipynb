{
 "cells": [
  {
   "cell_type": "markdown",
   "metadata": {},
   "source": [
    "**Question 1**"
   ]
  },
  {
   "cell_type": "code",
   "execution_count": 1,
   "metadata": {},
   "outputs": [
    {
     "data": {
      "text/plain": [
       "array([-1.8565709 ,  1.85692575])"
      ]
     },
     "execution_count": 1,
     "metadata": {},
     "output_type": "execute_result"
    }
   ],
   "source": [
    "# Sampling approach\n",
    "\n",
    "import scipy.stats as ss\n",
    "import numpy as np\n",
    "\n",
    "n = 1000\n",
    "p = 0.1\n",
    "\n",
    "mu = n*p\n",
    "sigma = np.sqrt(n*p*(1-p))\n",
    "\n",
    "x = np.random.normal(loc = n*p, scale = np.sqrt(n*p*(1-p)), size = 100000)\n",
    "(np.percentile(x, [2.5, 97.5],) - mu)/n*100"
   ]
  },
  {
   "cell_type": "code",
   "execution_count": 2,
   "metadata": {},
   "outputs": [
    {
     "name": "stdout",
     "output_type": "stream",
     "text": [
      "0.018594192641790068\n"
     ]
    }
   ],
   "source": [
    "# Analytical approach\n",
    "\n",
    "print(1.96*np.sqrt(n*p*(1-p))/n)"
   ]
  },
  {
   "cell_type": "markdown",
   "metadata": {},
   "source": [
    "**Question 2**"
   ]
  },
  {
   "cell_type": "code",
   "execution_count": 4,
   "metadata": {},
   "outputs": [
    {
     "name": "stdout",
     "output_type": "stream",
     "text": [
      "n=100   p=0.1   web=6.0   int_width=6.0   \n",
      "n=250   p=0.1   web=4.0   int_width=4.0   \n",
      "n=500   p=0.1   web=3.0   int_width=3.0   \n",
      "n=750   p=0.1   web=2.0   int_width=2.0   \n",
      "n=1000  p=0.1   web=2.0   int_width=2.0   \n",
      "n=100   p=0.2   web=9.0   int_width=8.0   ***incorrect***\n",
      "n=250   p=0.2   web=5.0   int_width=5.0   \n",
      "n=500   p=0.2   web=4.0   int_width=4.0   \n",
      "n=750   p=0.2   web=3.0   int_width=3.0   \n",
      "n=1000  p=0.2   web=3.0   int_width=2.0   ***incorrect***\n",
      "n=100   p=0.3   web=10.0  int_width=9.0   ***incorrect***\n",
      "n=250   p=0.3   web=6.0   int_width=6.0   \n",
      "n=500   p=0.3   web=4.0   int_width=4.0   \n",
      "n=750   p=0.3   web=4.0   int_width=3.0   ***incorrect***\n",
      "n=1000  p=0.3   web=3.0   int_width=3.0   \n",
      "n=100   p=0.4   web=10.0  int_width=10.0  \n",
      "n=250   p=0.4   web=7.0   int_width=6.0   ***incorrect***\n",
      "n=500   p=0.4   web=5.0   int_width=4.0   ***incorrect***\n",
      "n=750   p=0.4   web=4.0   int_width=4.0   \n",
      "n=1000  p=0.4   web=3.0   int_width=3.0   \n",
      "n=100   p=0.5   web=11.0  int_width=10.0  ***incorrect***\n",
      "n=250   p=0.5   web=7.0   int_width=6.0   ***incorrect***\n",
      "n=500   p=0.5   web=5.0   int_width=4.0   ***incorrect***\n",
      "n=750   p=0.5   web=4.0   int_width=4.0   \n",
      "n=1000  p=0.5   web=3.0   int_width=3.0   \n",
      "n=100   p=0.6   web=10.0  int_width=10.0  \n",
      "n=250   p=0.6   web=7.0   int_width=6.0   ***incorrect***\n",
      "n=500   p=0.6   web=5.0   int_width=4.0   ***incorrect***\n",
      "n=750   p=0.6   web=4.0   int_width=4.0   \n",
      "n=1000  p=0.6   web=3.0   int_width=3.0   \n",
      "n=100   p=0.7   web=10.0  int_width=9.0   ***incorrect***\n",
      "n=250   p=0.7   web=6.0   int_width=6.0   \n",
      "n=500   p=0.7   web=4.0   int_width=4.0   \n",
      "n=750   p=0.7   web=4.0   int_width=3.0   ***incorrect***\n",
      "n=1000  p=0.7   web=3.0   int_width=3.0   \n",
      "n=100   p=0.8   web=9.0   int_width=8.0   ***incorrect***\n",
      "n=250   p=0.8   web=5.0   int_width=5.0   \n",
      "n=500   p=0.8   web=4.0   int_width=4.0   \n",
      "n=750   p=0.8   web=3.0   int_width=3.0   \n",
      "n=1000  p=0.8   web=3.0   int_width=2.0   ***incorrect***\n",
      "n=100   p=0.9   web=6.0   int_width=6.0   \n",
      "n=250   p=0.9   web=4.0   int_width=4.0   \n",
      "n=500   p=0.9   web=3.0   int_width=3.0   \n",
      "n=750   p=0.9   web=2.0   int_width=2.0   \n",
      "n=1000  p=0.9   web=2.0   int_width=2.0   \n"
     ]
    }
   ],
   "source": [
    "# Josh's sampling approach\n",
    "import scipy.stats as st\n",
    "from itertools import product\n",
    "def approximate_sampling_error(n, p):\n",
    "  mu = round(n*p, 3)\n",
    "  sigma2 = round(n*p*(1-p), 3)\n",
    "  normal_approx = st.norm(mu, scale=sigma2**0.5)\n",
    "\n",
    "  lower, upper = normal_approx.interval(.95)\n",
    "  return 100*np.round((upper-lower)/(2*n), 2)\n",
    "\n",
    "approximate_sampling_error(1000, 0.1)\n",
    "\n",
    "p_indeces = range(9)\n",
    "n_indeces = range(5)\n",
    "\n",
    "p_vals = np.round(np.array(list(range(1, 10)))*0.1, 2)\n",
    "n_vals = [100, 250, 500, 750, 1000]\n",
    "\n",
    "web_results = [[ 2. , 2.,  3.,  4. , 6.],\n",
    " [ 3.,  3.,  4.,  5.,  9.],\n",
    " [ 3.,  4.,  4.,  6.,  10.],\n",
    " [ 3.,  4.,  5.,  7., 10.],\n",
    " [ 3.,  4.,  5.,  7., 11.],\n",
    " [ 3.,  4.,  5.,  7., 10.],\n",
    " [ 3.,  4.,  4.,  6.,  10.],\n",
    " [ 3., 3.,  4.,  5.,  9.],\n",
    " [ 2.,  2.,  3.,  4.,  6.]]\n",
    "\n",
    "for p_index, n_index in product(p_indeces, n_indeces):\n",
    "  p = p_vals[p_index]\n",
    "  n = n_vals[n_index]\n",
    "  half_interval = approximate_sampling_error(n, p)\n",
    "  \n",
    "  web_val = web_results[8-p_index][4-n_index]\n",
    "  marker = \"***incorrect***\" if abs(web_val - half_interval) > 0.001 else \"\"\n",
    "  print(\"n={:<5} p={:<5} web={:<5} int_width={:<5} {}\".format(n, p, web_val, half_interval, marker))"
   ]
  },
  {
   "cell_type": "code",
   "execution_count": 5,
   "metadata": {},
   "outputs": [
    {
     "name": "stdout",
     "output_type": "stream",
     "text": [
      "2.0 2.0 3.0 4.0 6.0 \n",
      "2.0 3.0 4.0 5.0 8.0 \n",
      "3.0 3.0 4.0 6.0 9.0 \n",
      "3.0 4.0 4.0 6.0 10.0 \n",
      "3.0 4.0 4.0 6.0 10.0 \n",
      "3.0 4.0 4.0 6.0 10.0 \n",
      "3.0 3.0 4.0 6.0 9.0 \n",
      "2.0 3.0 4.0 5.0 8.0 \n",
      "2.0 2.0 3.0 4.0 6.0 \n"
     ]
    }
   ],
   "source": [
    "# Chao's Analytical approach\n",
    "p_list=[0.1, 0.2, 0.3, 0.4, 0.5, 0.6, 0.7, 0.8, 0.9]\n",
    "N_list=[1000, 750, 500, 250, 100]\n",
    "\n",
    "for i in p_list:\n",
    "    for j in N_list:\n",
    "        std=np.sqrt(j*i*(1-i))\n",
    "        print(np.round(1.96*std/j * 100), end=\" \")\n",
    "    print()\n",
    "     "
   ]
  },
  {
   "cell_type": "code",
   "execution_count": null,
   "metadata": {},
   "outputs": [],
   "source": []
  }
 ],
 "metadata": {
  "kernelspec": {
   "display_name": "Python 3",
   "language": "python",
   "name": "python3"
  },
  "language_info": {
   "codemirror_mode": {
    "name": "ipython",
    "version": 3
   },
   "file_extension": ".py",
   "mimetype": "text/x-python",
   "name": "python",
   "nbconvert_exporter": "python",
   "pygments_lexer": "ipython3",
   "version": "3.7.0"
  }
 },
 "nbformat": 4,
 "nbformat_minor": 2
}
