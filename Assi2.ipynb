{
 "cells": [
  {
   "cell_type": "code",
   "execution_count": 15,
   "metadata": {},
   "outputs": [
    {
     "name": "stdout",
     "output_type": "stream",
     "text": [
      "Size of data set: 5891\n",
      "First 3 values in data set: [5.36 2.48 8.08]\n",
      "Sum of data set: 1442.145437310004\n",
      "00:00-01:00 - 7 calls\n",
      "01:00-02:00 - 5 calls\n",
      "02:00-03:00 - 8 calls\n",
      "03:00-04:00 - 7 calls\n",
      "04:00-05:00 - 21 calls\n",
      "05:00-06:00 - 42 calls\n",
      "06:00-07:00 - 96 calls\n",
      "07:00-08:00 - 189 calls\n",
      "08:00-09:00 - 274 calls\n",
      "09:00-10:00 - 344 calls\n",
      "10:00-11:00 - 487 calls\n",
      "11:00-12:00 - 892 calls\n",
      "12:00-13:00 - 869 calls\n",
      "13:00-14:00 - 401 calls\n",
      "14:00-15:00 - 206 calls\n",
      "15:00-16:00 - 169 calls\n",
      "16:00-17:00 - 261 calls\n",
      "17:00-18:00 - 430 calls\n",
      "18:00-19:00 - 579 calls\n",
      "19:00-20:00 - 383 calls\n",
      "20:00-21:00 - 136 calls\n",
      "21:00-22:00 - 45 calls\n",
      "22:00-23:00 - 28 calls\n",
      "23:00-24:00 - 12 calls\n"
     ]
    },
    {
     "data": {
      "image/png": "[encoded data removed]",
      "text/plain": [
       "<Figure size 432x288 with 1 Axes>"
      ]
     },
     "metadata": {
      "needs_background": "light"
     },
     "output_type": "display_data"
    }
   ],
   "source": [
    "%matplotlib inline\n",
    "import numpy as np\n",
    "from scipy import stats\n",
    "import matplotlib.pyplot\n",
    "import matplotlib.pyplot as plt\n",
    "\n",
    "## Load the data set containing durations between calls arriving at the call center.\n",
    "## All values are in minutes.\n",
    "data = np.loadtxt('call_center.csv')\n",
    "\n",
    "print('Size of data set:', len(data))\n",
    "print('First 3 values in data set:', data[:3])\n",
    "print('Sum of data set:', sum(data))\n",
    "\n",
    "## Split the data into 24 separate series, one for each hour of the day\n",
    "current_time = 0\n",
    "waiting_times = [[] for _ in range(24)]  # Make 24 empty lists, one per hour\n",
    "for t in data:\n",
    "    current_hour = int(current_time // 60)\n",
    "    current_time += t\n",
    "    waiting_times[current_hour].append(t)\n",
    "\n",
    "\n",
    "for hour, waiting_times_per_hour in enumerate(waiting_times):\n",
    "    print('%02i:00-%02i:00 - %i calls' % (hour, hour + 1, len(waiting_times_per_hour)))\n",
    "    \n",
    "## Plot the number of calls per hour\n",
    "plt.bar(range(24), [len(w) for w in waiting_times])\n",
    "plt.title('Number of calls per hour of the day')\n",
    "plt.show()\n",
    "    "
   ]
  },
  {
   "cell_type": "code",
   "execution_count": 16,
   "metadata": {},
   "outputs": [
    {
     "name": "stdout",
     "output_type": "stream",
     "text": [
      "Hour 00:00-01:00\n",
      "Posterior α = 8.0, β = 60.5\n",
      "Posterior 95% confidence interval: [0.1, 0.2]\n",
      "Posterior mean: 0.1\n",
      "Hour 01:00-02:00\n",
      "Posterior α = 6.0, β = 67.9\n",
      "Posterior 95% confidence interval: [0.0, 0.2]\n",
      "Posterior mean: 0.1\n",
      "Hour 02:00-03:00\n",
      "Posterior α = 9.0, β = 70.0\n",
      "Posterior 95% confidence interval: [0.1, 0.2]\n",
      "Posterior mean: 0.1\n",
      "Hour 03:00-04:00\n",
      "Posterior α = 8.0, β = 44.6\n",
      "Posterior 95% confidence interval: [0.1, 0.3]\n",
      "Posterior mean: 0.2\n",
      "Hour 04:00-05:00\n",
      "Posterior α = 22.0, β = 58.8\n",
      "Posterior 95% confidence interval: [0.2, 0.5]\n",
      "Posterior mean: 0.4\n",
      "Hour 05:00-06:00\n",
      "Posterior α = 43.0, β = 60.2\n",
      "Posterior 95% confidence interval: [0.5, 0.9]\n",
      "Posterior mean: 0.7\n",
      "Hour 06:00-07:00\n",
      "Posterior α = 97.0, β = 59.9\n",
      "Posterior 95% confidence interval: [1.3, 2.0]\n",
      "Posterior mean: 1.6\n",
      "Hour 07:00-08:00\n",
      "Posterior α = 190.0, β = 60.2\n",
      "Posterior 95% confidence interval: [2.7, 3.6]\n",
      "Posterior mean: 3.2\n",
      "Hour 08:00-09:00\n",
      "Posterior α = 275.0, β = 60.5\n",
      "Posterior 95% confidence interval: [4.0, 5.1]\n",
      "Posterior mean: 4.5\n",
      "Hour 09:00-10:00\n",
      "Posterior α = 345.0, β = 60.1\n",
      "Posterior 95% confidence interval: [5.2, 6.4]\n",
      "Posterior mean: 5.7\n",
      "Hour 10:00-11:00\n",
      "Posterior α = 488.0, β = 60.3\n",
      "Posterior 95% confidence interval: [7.4, 8.8]\n",
      "Posterior mean: 8.1\n",
      "Hour 11:00-12:00\n",
      "Posterior α = 893.0, β = 60.1\n",
      "Posterior 95% confidence interval: [13.9, 15.9]\n",
      "Posterior mean: 14.9\n",
      "Hour 12:00-13:00\n",
      "Posterior α = 870.0, β = 60.3\n",
      "Posterior 95% confidence interval: [13.5, 15.4]\n",
      "Posterior mean: 14.4\n",
      "Hour 13:00-14:00\n",
      "Posterior α = 402.0, β = 60.7\n",
      "Posterior 95% confidence interval: [6.0, 7.3]\n",
      "Posterior mean: 6.6\n",
      "Hour 14:00-15:00\n",
      "Posterior α = 207.0, β = 60.2\n",
      "Posterior 95% confidence interval: [3.0, 3.9]\n",
      "Posterior mean: 3.4\n",
      "Hour 15:00-16:00\n",
      "Posterior α = 170.0, β = 59.9\n",
      "Posterior 95% confidence interval: [2.4, 3.3]\n",
      "Posterior mean: 2.8\n",
      "Hour 16:00-17:00\n",
      "Posterior α = 262.0, β = 60.5\n",
      "Posterior 95% confidence interval: [3.8, 4.9]\n",
      "Posterior mean: 4.3\n",
      "Hour 17:00-18:00\n",
      "Posterior α = 431.0, β = 59.8\n",
      "Posterior 95% confidence interval: [6.5, 7.9]\n",
      "Posterior mean: 7.2\n",
      "Hour 18:00-19:00\n",
      "Posterior α = 580.0, β = 60.3\n",
      "Posterior 95% confidence interval: [8.9, 10.4]\n",
      "Posterior mean: 9.6\n",
      "Hour 19:00-20:00\n",
      "Posterior α = 384.0, β = 60.3\n",
      "Posterior 95% confidence interval: [5.7, 7.0]\n",
      "Posterior mean: 6.4\n",
      "Hour 20:00-21:00\n",
      "Posterior α = 137.0, β = 60.2\n",
      "Posterior 95% confidence interval: [1.9, 2.7]\n",
      "Posterior mean: 2.3\n",
      "Hour 21:00-22:00\n",
      "Posterior α = 46.0, β = 66.2\n",
      "Posterior 95% confidence interval: [0.5, 0.9]\n",
      "Posterior mean: 0.7\n",
      "Hour 22:00-23:00\n",
      "Posterior α = 29.0, β = 63.2\n",
      "Posterior 95% confidence interval: [0.3, 0.6]\n",
      "Posterior mean: 0.5\n",
      "Hour 23:00-24:00\n",
      "Posterior α = 13.0, β = 53.4\n",
      "Posterior 95% confidence interval: [0.1, 0.4]\n",
      "Posterior mean: 0.2\n"
     ]
    }
   ],
   "source": [
    "## Compute 95% posterior confidence intervals and posterior means for each hour of the day\n",
    "\n",
    "def get_mean_and_confidence(hour_index):\n",
    "    waiting_times_hour = waiting_times[hour_index]\n",
    "    lambda_ = 1 / np.mean(waiting_times_hour)\n",
    "    distribution = stats.expon(scale=1 / lambda_)\n",
    "    \n",
    "    ## Fit an exponential distribution to the data for hour n\n",
    "    prior_alpha = 1\n",
    "    prior_beta = 0.25\n",
    "\n",
    "    posterior_alpha = prior_alpha + len(waiting_times_hour)\n",
    "    posterior_beta = prior_beta + sum(waiting_times_hour)\n",
    "    print('Posterior α = %.1f, β = %.1f' % (posterior_alpha, posterior_beta))\n",
    "\n",
    "    ## Create the distribution object. This is the posterior over λ\n",
    "    posterior = stats.gamma(a=posterior_alpha, scale=1/posterior_beta)\n",
    "\n",
    "    ## Compute 95% posterior confidence intervals\n",
    "    posterior_confidence95 = (posterior.ppf(0.025), posterior.ppf(0.975))\n",
    "    print('Posterior 95%% confidence interval: [%.1f, %.1f]' % posterior_confidence95)\n",
    "    \n",
    "    ## Compute posterior means\n",
    "    posterior_mean = posterior.mean()\n",
    "    print('Posterior mean: %.1f' % posterior_mean)\n",
    "    \n",
    "    ## Compute errorbar's scalars \n",
    "    scalars = posterior_confidence95[1] - posterior_mean\n",
    "        \n",
    "    return posterior_mean, scalars\n",
    "\n",
    "hour_indexes = list(range(0, 24))\n",
    "mean_ls = []\n",
    "scalars_ls = []\n",
    "for h in hour_indexes:\n",
    "    print('Hour %02i:00-%02i:00' % (h, h + 1))\n",
    "    m, s = get_mean_and_confidence(h)\n",
    "    mean_ls.append(m)\n",
    "    scalars_ls.append(s)\n",
    "    "
   ]
  },
  {
   "cell_type": "code",
   "execution_count": 17,
   "metadata": {},
   "outputs": [
    {
     "data": {
      "image/png": "[encoded data removed]",
      "text/plain": [
       "<Figure size 432x288 with 1 Axes>"
      ]
     },
     "metadata": {
      "needs_background": "light"
     },
     "output_type": "display_data"
    }
   ],
   "source": [
    "import seaborn as sns\n",
    "\n",
    "## Create arrays for posterior means and scalars \n",
    "means_np = np.array(mean_ls)\n",
    "scalars_np = np.array(scalars_ls)\n",
    "hour_indexes_np = np.array(hour_indexes)\n",
    "hours = hour_indexes_np + 1\n",
    "\n",
    "## Plot expected calls' errorbar \n",
    "plt.errorbar(hours, means_np, xerr = 0.3, yerr=scalars_np, linestyle = '')\n",
    "plt.title('Expected Calls Per Hour (ErrorBar Plot)', loc = 'center')\n",
    "plt.xlabel('Hour')\n",
    "plt.xticks(np.arange(0, 25, step = 2))\n",
    "plt.ylabel('Number of Calls')\n",
    "plt.show()\n",
    "\n"
   ]
  },
  {
   "cell_type": "code",
   "execution_count": 18,
   "metadata": {},
   "outputs": [
    {
     "data": {
      "image/png": "[encoded data removed]",
      "text/plain": [
       "<Figure size 432x288 with 1 Axes>"
      ]
     },
     "metadata": {
      "needs_background": "light"
     },
     "output_type": "display_data"
    }
   ],
   "source": [
    "## Plot expected calls' bar \n",
    "plt.bar(hours, means_np)\n",
    "plt.title('Expected Calls Per Hour (Bar Plot)', loc = 'center')\n",
    "plt.xlabel('Hour')\n",
    "plt.xticks(np.arange(0, 25, step = 2))\n",
    "plt.ylabel('Number of Calls')\n",
    "plt.show()\n"
   ]
  },
  {
   "cell_type": "code",
   "execution_count": 14,
   "metadata": {},
   "outputs": [
    {
     "data": {
      "image/png": "[encoded data removed]",
      "text/plain": [
       "<Figure size 432x288 with 1 Axes>"
      ]
     },
     "metadata": {
      "needs_background": "light"
     },
     "output_type": "display_data"
    }
   ],
   "source": [
    "## Plot expected calls' certainty\n",
    "plt.bar(hours, scalars_np)\n",
    "plt.title('Expected Calls Per Hour Certainty (Bar Plot)', loc = 'center')\n",
    "plt.xlabel('Hour')\n",
    "plt.xticks(np.arange(0, 25, step = 2))\n",
    "plt.ylabel('Number of Calls')\n",
    "plt.show()"
   ]
  },
  {
   "cell_type": "code",
   "execution_count": null,
   "metadata": {},
   "outputs": [],
   "source": []
  }
 ],
 "metadata": {
  "kernelspec": {
   "display_name": "Python 3",
   "language": "python",
   "name": "python3"
  },
  "language_info": {
   "codemirror_mode": {
    "name": "ipython",
    "version": 3
   },
   "file_extension": ".py",
   "mimetype": "text/x-python",
   "name": "python",
   "nbconvert_exporter": "python",
   "pygments_lexer": "ipython3",
   "version": "3.7.0"
  }
 },
 "nbformat": 4,
 "nbformat_minor": 2
}
